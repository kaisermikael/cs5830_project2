{
 "cells": [
  {
   "cell_type": "code",
   "execution_count": null,
   "id": "b29ae35c",
   "metadata": {},
   "outputs": [],
   "source": [
    "import pandas as pd\n",
    "import seaborn as sns\n",
    "from matplotlib import pyplot as plt\n",
    "from scipy import stats"
   ]
  },
  {
   "cell_type": "code",
   "execution_count": null,
   "id": "bf38717e",
   "metadata": {},
   "outputs": [],
   "source": [
    "austinZipCodes = pd.read_csv('AustinZipCodes.csv')\n",
    "austinCrime = pd.read_csv('crime-housing-austin-2015.csv')"
   ]
  },
  {
   "cell_type": "markdown",
   "id": "a52b460e",
   "metadata": {},
   "source": [
    "## Ben's Code Here"
   ]
  },
  {
   "cell_type": "markdown",
   "id": "da3e2540",
   "metadata": {},
   "source": [
    "## Michael's Code Here"
   ]
  }
 ],
 "metadata": {
  "kernelspec": {
   "display_name": "Python 3 (ipykernel)",
   "language": "python",
   "name": "python3"
  },
  "language_info": {
   "codemirror_mode": {
    "name": "ipython",
    "version": 3
   },
   "file_extension": ".py",
   "mimetype": "text/x-python",
   "name": "python",
   "nbconvert_exporter": "python",
   "pygments_lexer": "ipython3",
   "version": "3.8.10"
  }
 },
 "nbformat": 4,
 "nbformat_minor": 5
}
