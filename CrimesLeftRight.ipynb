{
 "cells": [
  {
   "cell_type": "code",
   "execution_count": null,
   "id": "aa55a0ae",
   "metadata": {},
   "outputs": [],
   "source": [
    "import pandas as pd\n",
    "import numpy as np\n",
    "import matplotlib\n",
    "import matplotlib.pyplot as plt\n",
    "import seaborn as sns\n",
    "import scipy.stats as stats"
   ]
  },
  {
   "cell_type": "code",
   "execution_count": null,
   "id": "c0762ae0",
   "metadata": {},
   "outputs": [],
   "source": [
    "df = pd.read_csv('crime-housing-austin-2015.csv')\n",
    "df.head()"
   ]
  },
  {
   "cell_type": "code",
   "execution_count": null,
   "id": "1243a352",
   "metadata": {},
   "outputs": [],
   "source": [
    "# Copy from Population notebook\n",
    "dfa = df.rename(columns={\"Zip_Code_Crime\": \"Zip Code\"})\n",
    "df2=pd.read_csv('AustinZipCodes.csv')\n",
    "\n",
    "df2['People / Sq. Mile'] = df2['People / Sq. Mile'].str.replace(',', '').astype(float)\n",
    "df2['Population'] = df2['Population'].str.replace(',', '').astype(float)\n",
    "\n",
    "df2a = df2.astype({'Zip Code':'float32'})\n",
    "dfb = dfa.merge(df2a, on=['Zip Code'])\n",
    "\n",
    "ZipCodeCounts = dfb.groupby(dfb['Zip Code']).agg({'Key':'count', 'Population':'first'})\n",
    "ZipCodeCounts = ZipCodeCounts.assign(CrimePerPop = ZipCodeCounts.Key/ZipCodeCounts.Population)"
   ]
  },
  {
   "cell_type": "code",
   "execution_count": null,
   "id": "b844a6fd",
   "metadata": {},
   "outputs": [],
   "source": [
    "allZips = [ZipCodeCounts.iloc[i].name for i in range(ZipCodeCounts.shape[0])]\n",
    "ZipCodeCounts = ZipCodeCounts.assign(Zips = allZips)"
   ]
  },
  {
   "cell_type": "code",
   "execution_count": null,
   "id": "45f1b0a2",
   "metadata": {},
   "outputs": [],
   "source": [
    "rsZips = [78634.0, 78660.0, 78753.0, 78752.0, 78751.0, 78705.0, 78701.0, 78704.0, 78745.0, \n",
    "          78748.0, 78652.0, 78747.0, 78719.0, 78617.0, 78612.0, 78744.0, 78741.0, 78742.0, \n",
    "          78725.0, 78702.0, 78721.0, 78724.0, 78723.0, 78754.0, 78653.0]"
   ]
  },
  {
   "cell_type": "code",
   "execution_count": null,
   "id": "46fe8884",
   "metadata": {},
   "outputs": [],
   "source": [
    "ZipCodeCounts = ZipCodeCounts.assign(RightSide = ZipCodeCounts.Zips.isin(rsZips))"
   ]
  },
  {
   "cell_type": "code",
   "execution_count": null,
   "id": "176a7bd5",
   "metadata": {},
   "outputs": [],
   "source": [
    "rsData = ZipCodeCounts[ZipCodeCounts.Zips.isin(rsZips)]\n",
    "lsData = ZipCodeCounts[~ZipCodeCounts.Zips.isin(rsZips)]"
   ]
  },
  {
   "cell_type": "code",
   "execution_count": null,
   "id": "bba8d18c",
   "metadata": {},
   "outputs": [],
   "source": [
    "ZipCodeCounts.shape"
   ]
  },
  {
   "cell_type": "code",
   "execution_count": null,
   "id": "bd47d4a5",
   "metadata": {},
   "outputs": [],
   "source": [
    "myplot = sns.displot(data=ZipCodeCounts, x='CrimePerPop', hue='RightSide', kind='hist', common_norm=False,\n",
    "                    height=10)\n",
    "plt.xlabel('Crime/Population')\n",
    "plt.ylabel('Number of Zip Codes')\n",
    "plt.show()"
   ]
  },
  {
   "cell_type": "code",
   "execution_count": null,
   "id": "162f90ab",
   "metadata": {},
   "outputs": [],
   "source": [
    "#myfig = myplot.get_figure()\n",
    "myplot.savefig('LeftRightCrimes.pdf')"
   ]
  },
  {
   "cell_type": "code",
   "execution_count": null,
   "id": "e4d4f429",
   "metadata": {},
   "outputs": [],
   "source": [
    "RS = ZipCodeCounts[ZipCodeCounts['RightSide'] == True]['CrimePerPop']\n",
    "LS = ZipCodeCounts[ZipCodeCounts['RightSide'] == False]['CrimePerPop']"
   ]
  },
  {
   "cell_type": "code",
   "execution_count": null,
   "id": "236953cc",
   "metadata": {},
   "outputs": [],
   "source": [
    "stats.ttest_ind(RS, LS)"
   ]
  },
  {
   "cell_type": "code",
   "execution_count": null,
   "id": "1295b795",
   "metadata": {},
   "outputs": [],
   "source": [
    "np.mean(RS)"
   ]
  },
  {
   "cell_type": "code",
   "execution_count": null,
   "id": "a8ca9a01",
   "metadata": {},
   "outputs": [],
   "source": [
    "np.mean(LS)"
   ]
  },
  {
   "cell_type": "code",
   "execution_count": null,
   "id": "bffb4755",
   "metadata": {},
   "outputs": [],
   "source": [
    "# But there's an outlier, and it's in the middle of the boundary.\n",
    "RS[78701.0]"
   ]
  },
  {
   "cell_type": "code",
   "execution_count": null,
   "id": "08d541cc",
   "metadata": {},
   "outputs": [],
   "source": [
    "RS2 = RS.drop(78701.0)"
   ]
  },
  {
   "cell_type": "code",
   "execution_count": null,
   "id": "3c676a49",
   "metadata": {},
   "outputs": [],
   "source": [
    "stats.ttest_ind(RS2, LS)"
   ]
  },
  {
   "cell_type": "code",
   "execution_count": null,
   "id": "a3eb2fab",
   "metadata": {},
   "outputs": [],
   "source": [
    "np.mean(RS2)"
   ]
  },
  {
   "cell_type": "code",
   "execution_count": null,
   "id": "a97b1d77",
   "metadata": {},
   "outputs": [],
   "source": []
  },
  {
   "cell_type": "code",
   "execution_count": null,
   "id": "997e126b",
   "metadata": {},
   "outputs": [],
   "source": [
    "# abandoned stuff.\n",
    "\n",
    "# df.iloc[0]['Report_Date']\n",
    "# matplotlib.dates.datestr2num(df.iloc[0]['Report_Date'], default=None)\n",
    "# ZipCodeDateCounts = df.groupby(df.Zip_Code_Crime)\n",
    "# ZipCodes = df['Zip_Code_Crime'].unique()\n",
    "# len(ZipCodes)\n",
    "\n",
    "\n",
    "\n",
    "# def plotZips(z1,z2,Kind='kde'):\n",
    "#     df1 = ZipCodeDateCounts.get_group(z1)\n",
    "#     df2 = ZipCodeDateCounts.get_group(z2)\n",
    "    \n",
    "#     df1 = df1.assign(ReportDate = pd.to_datetime(df1.Report_Date))\n",
    "#     df2 = df2.assign(ReportDate = pd.to_datetime(df2.Report_Date))\n",
    "    \n",
    "#     df3 = pd.concat([df1,df2])\n",
    "#     plt.figure(figsize=(200,20))\n",
    "#     myplot = sns.displot(data=df3, x='ReportDate', hue='Zip_Code_Crime', kind=Kind, common_norm=False,\n",
    "#                height=10)\n",
    "#     plt.xlabel('date')\n",
    "#     plt.show()\n",
    "#     return myplot\n",
    "\n"
   ]
  },
  {
   "cell_type": "code",
   "execution_count": null,
   "id": "794222ff",
   "metadata": {},
   "outputs": [],
   "source": []
  }
 ],
 "metadata": {
  "kernelspec": {
   "display_name": "Python 3",
   "language": "python",
   "name": "python3"
  },
  "language_info": {
   "codemirror_mode": {
    "name": "ipython",
    "version": 3
   },
   "file_extension": ".py",
   "mimetype": "text/x-python",
   "name": "python",
   "nbconvert_exporter": "python",
   "pygments_lexer": "ipython3",
   "version": "3.8.8"
  }
 },
 "nbformat": 4,
 "nbformat_minor": 5
}
