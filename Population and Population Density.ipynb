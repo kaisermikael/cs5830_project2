{
 "cells": [
  {
   "cell_type": "code",
   "execution_count": null,
   "id": "61e63749",
   "metadata": {},
   "outputs": [],
   "source": [
    "import pandas as pd\n",
    "import numpy as np\n",
    "import matplotlib.pyplot as plt\n",
    "import seaborn as sns\n",
    "import scipy.stats as stats"
   ]
  },
  {
   "cell_type": "code",
   "execution_count": null,
   "id": "5e481fbe",
   "metadata": {},
   "outputs": [],
   "source": [
    "df = pd.read_csv('crime-housing-austin-2015.csv')"
   ]
  },
  {
   "cell_type": "code",
   "execution_count": null,
   "id": "d206a2ab",
   "metadata": {},
   "outputs": [],
   "source": [
    "df.head()"
   ]
  },
  {
   "cell_type": "code",
   "execution_count": null,
   "id": "67cd93f6",
   "metadata": {},
   "outputs": [],
   "source": [
    "dfa = df.rename(columns={\"Zip_Code_Crime\": \"Zip Code\"})"
   ]
  },
  {
   "cell_type": "code",
   "execution_count": null,
   "id": "7985d1a0",
   "metadata": {},
   "outputs": [],
   "source": [
    "df2=pd.read_csv('AustinZipCodes.csv')"
   ]
  },
  {
   "cell_type": "code",
   "execution_count": null,
   "id": "24bc3840",
   "metadata": {},
   "outputs": [],
   "source": [
    "df2.head()"
   ]
  },
  {
   "cell_type": "code",
   "execution_count": null,
   "id": "1c6a7b79",
   "metadata": {},
   "outputs": [],
   "source": [
    "df2['People / Sq. Mile'] = df2['People / Sq. Mile'].str.replace(',', '').astype(float)\n",
    "df2['Population'] = df2['Population'].str.replace(',', '').astype(float)"
   ]
  },
  {
   "cell_type": "code",
   "execution_count": null,
   "id": "785eb62c",
   "metadata": {},
   "outputs": [],
   "source": [
    "df2a = df2.astype({'Zip Code':'float32'})"
   ]
  },
  {
   "cell_type": "code",
   "execution_count": null,
   "id": "ee180432",
   "metadata": {},
   "outputs": [],
   "source": [
    "dfb = dfa.merge(df2a, on=['Zip Code'])"
   ]
  },
  {
   "cell_type": "code",
   "execution_count": null,
   "id": "3e069e85",
   "metadata": {},
   "outputs": [],
   "source": [
    "dfb.head()"
   ]
  },
  {
   "cell_type": "code",
   "execution_count": null,
   "id": "48fb5e79",
   "metadata": {},
   "outputs": [],
   "source": [
    "ZipCodeCounts = dfb.groupby(dfb['Zip Code']).agg({'Key':'count', 'People / Sq. Mile':'first'})\n",
    "ZipCodeCounts2 = dfb.groupby(dfb['Zip Code']).agg({'Key':'count', 'Population':'first'})"
   ]
  },
  {
   "cell_type": "code",
   "execution_count": null,
   "id": "d81aa9d5",
   "metadata": {},
   "outputs": [],
   "source": [
    "ZipCodeCounts.sort_values(by=ZipCodeCounts.columns[1], inplace=True)\n",
    "ZipCodeCounts2.sort_values(by=ZipCodeCounts2.columns[1], inplace=True)"
   ]
  },
  {
   "cell_type": "code",
   "execution_count": null,
   "id": "da458141",
   "metadata": {},
   "outputs": [],
   "source": [
    "plt.figure(figsize=(20,8))\n",
    "sns.set_context(rc={'lines.linewidth': 2.5})\n",
    "myplot = sns.regplot(data=ZipCodeCounts, x='People / Sq. Mile', y='Key')\n",
    "plt.ylabel('Number of Crimes')\n",
    "plt.show()"
   ]
  },
  {
   "cell_type": "code",
   "execution_count": null,
   "id": "4cedd970",
   "metadata": {},
   "outputs": [],
   "source": [
    "myfig = myplot.get_figure()\n",
    "myfig.savefig('pop_dens_Crimes.pdf')"
   ]
  },
  {
   "cell_type": "code",
   "execution_count": null,
   "id": "fa155a0f",
   "metadata": {},
   "outputs": [],
   "source": [
    "stats.pearsonr(ZipCodeCounts['People / Sq. Mile'], ZipCodeCounts['Key'])"
   ]
  },
  {
   "cell_type": "code",
   "execution_count": null,
   "id": "ee1e9bf6",
   "metadata": {},
   "outputs": [],
   "source": [
    "plt.figure(figsize=(20,8))\n",
    "sns.set_context(rc={'lines.linewidth': 2.5})\n",
    "myplot = sns.regplot(data=ZipCodeCounts2, x='Population', y='Key')\n",
    "plt.ylabel('Number of Crimes')\n",
    "plt.show()"
   ]
  },
  {
   "cell_type": "code",
   "execution_count": null,
   "id": "cc06e3a1",
   "metadata": {},
   "outputs": [],
   "source": [
    "myfig = myplot.get_figure()\n",
    "myfig.savefig('pop_Crimes.pdf')"
   ]
  },
  {
   "cell_type": "code",
   "execution_count": null,
   "id": "d1b8c963",
   "metadata": {},
   "outputs": [],
   "source": [
    "stats.pearsonr(ZipCodeCounts2['Population'], ZipCodeCounts2['Key'])"
   ]
  },
  {
   "cell_type": "code",
   "execution_count": null,
   "id": "0eac7972",
   "metadata": {},
   "outputs": [],
   "source": []
  }
 ],
 "metadata": {
  "kernelspec": {
   "display_name": "Python 3",
   "language": "python",
   "name": "python3"
  },
  "language_info": {
   "codemirror_mode": {
    "name": "ipython",
    "version": 3
   },
   "file_extension": ".py",
   "mimetype": "text/x-python",
   "name": "python",
   "nbconvert_exporter": "python",
   "pygments_lexer": "ipython3",
   "version": "3.8.8"
  }
 },
 "nbformat": 4,
 "nbformat_minor": 5
}
