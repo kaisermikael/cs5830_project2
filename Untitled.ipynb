{
 "cells": [
  {
   "cell_type": "code",
   "execution_count": null,
   "id": "a39fd86b",
   "metadata": {},
   "outputs": [],
   "source": [
    "import pandas as pd\n",
    "import seaborn as sns\n",
    "from matplotlib import pyplot as plt\n",
    "from scipy import stats"
   ]
  },
  {
   "cell_type": "code",
   "execution_count": null,
   "id": "b567ce84",
   "metadata": {},
   "outputs": [],
   "source": [
    "austinZipCodes = pd.read_csv('AustinZipCodes.csv')\n",
    "austinZipCodes = pd.read_csv('crime-housing-austin-2015.csv')"
   ]
  },
  {
   "cell_type": "markdown",
   "id": "034df4f5",
   "metadata": {},
   "source": [
    "## Ben's Code Here"
   ]
  },
  {
   "cell_type": "markdown",
   "id": "7fdc678c",
   "metadata": {},
   "source": [
    "## Michael's Code Here"
   ]
  }
 ],
 "metadata": {
  "kernelspec": {
   "display_name": "Python 3 (ipykernel)",
   "language": "python",
   "name": "python3"
  },
  "language_info": {
   "codemirror_mode": {
    "name": "ipython",
    "version": 3
   },
   "file_extension": ".py",
   "mimetype": "text/x-python",
   "name": "python",
   "nbconvert_exporter": "python",
   "pygments_lexer": "ipython3",
   "version": "3.8.10"
  }
 },
 "nbformat": 4,
 "nbformat_minor": 5
}
